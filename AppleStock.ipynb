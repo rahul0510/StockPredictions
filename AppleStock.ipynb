{
  "nbformat": 4,
  "nbformat_minor": 0,
  "metadata": {
    "kernelspec": {
      "language": "python",
      "display_name": "Python 3",
      "name": "python3"
    },
    "language_info": {
      "pygments_lexer": "ipython3",
      "nbconvert_exporter": "python",
      "version": "3.6.4",
      "file_extension": ".py",
      "codemirror_mode": {
        "name": "ipython",
        "version": 3
      },
      "name": "python",
      "mimetype": "text/x-python"
    },
    "colab": {
      "name": "AppleStock.ipynb",
      "provenance": [],
      "collapsed_sections": []
    }
  },
  "cells": [
    {
      "cell_type": "code",
      "metadata": {
        "_uuid": "8f2839f25d086af736a60e9eeb907d3b93b6e0e5",
        "_cell_guid": "b1076dfc-b9ad-4769-8c92-a6c4dae69d19",
        "trusted": true,
        "id": "7XDkLZikzEfP",
        "colab_type": "code",
        "colab": {}
      },
      "source": [
        "# This Python 3 environment comes with many helpful analytics libraries installed\n",
        "# It is defined by the kaggle/python Docker image: https://github.com/kaggle/docker-python\n",
        "# For example, here's several helpful packages to load\n",
        "\n",
        "import numpy as np # linear algebra\n",
        "import pandas as pd # data processing, CSV file I/O (e.g. pd.read_csv)\n",
        "\n",
        "# Input data files are available in the read-only \"../input/\" directory\n",
        "# For example, running this (by clicking run or pressing Shift+Enter) will list all files under the input directory\n",
        "\n",
        "import os\n",
        "for dirname, _, filenames in os.walk('/kaggle/input'):\n",
        "    for filename in filenames:\n",
        "        print(os.path.join(dirname, filename))\n",
        "\n",
        "# You can write up to 5GB to the current directory (/kaggle/working/) that gets preserved as output when you create a version using \"Save & Run All\" \n",
        "# You can also write temporary files to /kaggle/temp/, but they won't be saved outside of the current session"
      ],
      "execution_count": 0,
      "outputs": []
    },
    {
      "cell_type": "code",
      "metadata": {
        "_uuid": "d629ff2d2480ee46fbb7e2d37f6b5fab8052498a",
        "_cell_guid": "79c7e3d0-c299-4dcb-8224-4455121ee9b0",
        "trusted": true,
        "id": "OMqcV5WJzEfT",
        "colab_type": "code",
        "colab": {}
      },
      "source": [
        "import numpy as np # linear algebra\n",
        "import pandas as pd # data processing, CSV file I/O (e.g. pd.read_csv)\n",
        "from keras.models import Sequential\n",
        "from keras.layers import LSTM,Dense\n",
        "from sklearn.preprocessing import MinMaxScaler\n",
        "import matplotlib.pyplot as plt\n",
        "# Input data files are available in the \"../input/\" directory.\n",
        "# For example, running this (by clicking run or pressing Shift+Enter) will list the files in the input directory\n",
        "\n",
        "# from subprocess import check_output\n",
        "# print(check_output([\"ls\", \"../input\"]).decode(\"utf8\"))"
      ],
      "execution_count": 0,
      "outputs": []
    },
    {
      "cell_type": "code",
      "metadata": {
        "trusted": true,
        "id": "n8B10-quzEfW",
        "colab_type": "code",
        "colab": {}
      },
      "source": [
        "data = pd.read_csv('/content/Apple share.csv')\n",
        "cl = data['close']\n",
        "cl=np.array(cl)"
      ],
      "execution_count": 0,
      "outputs": []
    },
    {
      "cell_type": "code",
      "metadata": {
        "trusted": true,
        "id": "TD6QnZfyzEfY",
        "colab_type": "code",
        "colab": {
          "base_uri": "https://localhost:8080/",
          "height": 134
        },
        "outputId": "85dbc475-b2a7-43e6-e5e0-1999e78b9ba2"
      },
      "source": [
        "scl = MinMaxScaler()\n",
        "#Scale the data\n",
        "cl = cl.reshape(cl.shape[0],1)\n",
        "cl = scl.fit_transform(cl)\n",
        "cl"
      ],
      "execution_count": 4,
      "outputs": [
        {
          "output_type": "execute_result",
          "data": {
            "text/plain": [
              "array([[0.00529196],\n",
              "       [0.00451814],\n",
              "       [0.00157154],\n",
              "       ...,\n",
              "       [0.97853473],\n",
              "       [0.96911423],\n",
              "       [1.        ]])"
            ]
          },
          "metadata": {
            "tags": []
          },
          "execution_count": 4
        }
      ]
    },
    {
      "cell_type": "code",
      "metadata": {
        "trusted": true,
        "id": "JzAfCTmTzEfa",
        "colab_type": "code",
        "colab": {
          "base_uri": "https://localhost:8080/",
          "height": 84
        },
        "outputId": "44bcffff-f482-4f66-852f-00861da59e70"
      },
      "source": [
        "def processData(data,lb):\n",
        "    X,Y = [],[]\n",
        "    for i in range(len(data)-lb-1):\n",
        "        X.append(data[i:(i+lb),0])\n",
        "        Y.append(data[(i+lb),0])\n",
        "    return np.array(X),np.array(Y)\n",
        "X,y = processData(cl,5)\n",
        "X_train,X_test = X[:int(X.shape[0]*0.80)],X[int(X.shape[0]*0.80):]\n",
        "y_train,y_test = y[:int(y.shape[0]*0.80)],y[int(y.shape[0]*0.80):]\n",
        "print(X_train.shape[0])\n",
        "print(X_test.shape[0])\n",
        "print(y_train.shape[0])\n",
        "print(y_test.shape[0])"
      ],
      "execution_count": 5,
      "outputs": [
        {
          "output_type": "stream",
          "text": [
            "2009\n",
            "503\n",
            "2009\n",
            "503\n"
          ],
          "name": "stdout"
        }
      ]
    },
    {
      "cell_type": "code",
      "metadata": {
        "trusted": true,
        "id": "fFVKHSWuzEfd",
        "colab_type": "code",
        "colab": {
          "base_uri": "https://localhost:8080/",
          "height": 1000
        },
        "outputId": "e1d75ab4-0ceb-47cd-8bb9-28b72d3ee443"
      },
      "source": [
        "model = Sequential()\n",
        "model.add(LSTM(256,input_shape=(5,1)))\n",
        "model.add(Dense(1))\n",
        "model.compile(optimizer='adam',loss='mse')\n",
        "#Reshape data for (Sample,Timestep,Features) \n",
        "X_train = X_train.reshape((X_train.shape[0],X_train.shape[1],1))\n",
        "X_test = X_test.reshape((X_test.shape[0],X_test.shape[1],1))\n",
        "#Fit model with history to check for overfitting\n",
        "history = model.fit(X_train,y_train,epochs=60,validation_data=(X_test,y_test),shuffle=False)"
      ],
      "execution_count": 21,
      "outputs": [
        {
          "output_type": "stream",
          "text": [
            "Train on 2009 samples, validate on 503 samples\n",
            "Epoch 1/60\n",
            "2009/2009 [==============================] - 2s 904us/step - loss: 0.0024 - val_loss: 0.0111\n",
            "Epoch 2/60\n",
            "2009/2009 [==============================] - 1s 742us/step - loss: 0.0036 - val_loss: 0.0064\n",
            "Epoch 3/60\n",
            "2009/2009 [==============================] - 1s 737us/step - loss: 0.0034 - val_loss: 0.0035\n",
            "Epoch 4/60\n",
            "2009/2009 [==============================] - 1s 743us/step - loss: 0.0033 - val_loss: 0.0030\n",
            "Epoch 5/60\n",
            "2009/2009 [==============================] - 1s 744us/step - loss: 0.0020 - val_loss: 0.0019\n",
            "Epoch 6/60\n",
            "2009/2009 [==============================] - 2s 747us/step - loss: 5.0752e-04 - val_loss: 0.0022\n",
            "Epoch 7/60\n",
            "2009/2009 [==============================] - 1s 736us/step - loss: 7.8839e-05 - val_loss: 0.0021\n",
            "Epoch 8/60\n",
            "2009/2009 [==============================] - 1s 735us/step - loss: 7.7552e-05 - val_loss: 0.0023\n",
            "Epoch 9/60\n",
            "2009/2009 [==============================] - 1s 742us/step - loss: 7.5230e-05 - val_loss: 0.0025\n",
            "Epoch 10/60\n",
            "2009/2009 [==============================] - 1s 733us/step - loss: 7.4978e-05 - val_loss: 0.0026\n",
            "Epoch 11/60\n",
            "2009/2009 [==============================] - 1s 743us/step - loss: 7.5033e-05 - val_loss: 0.0026\n",
            "Epoch 12/60\n",
            "2009/2009 [==============================] - 2s 754us/step - loss: 7.6302e-05 - val_loss: 0.0026\n",
            "Epoch 13/60\n",
            "2009/2009 [==============================] - 2s 748us/step - loss: 7.8254e-05 - val_loss: 0.0025\n",
            "Epoch 14/60\n",
            "2009/2009 [==============================] - 2s 755us/step - loss: 8.0362e-05 - val_loss: 0.0024\n",
            "Epoch 15/60\n",
            "2009/2009 [==============================] - 1s 741us/step - loss: 8.1516e-05 - val_loss: 0.0022\n",
            "Epoch 16/60\n",
            "2009/2009 [==============================] - 2s 751us/step - loss: 8.1763e-05 - val_loss: 0.0021\n",
            "Epoch 17/60\n",
            "2009/2009 [==============================] - 1s 734us/step - loss: 8.1635e-05 - val_loss: 0.0019\n",
            "Epoch 18/60\n",
            "2009/2009 [==============================] - 1s 742us/step - loss: 8.1565e-05 - val_loss: 0.0017\n",
            "Epoch 19/60\n",
            "2009/2009 [==============================] - 2s 750us/step - loss: 8.1613e-05 - val_loss: 0.0016\n",
            "Epoch 20/60\n",
            "2009/2009 [==============================] - 2s 765us/step - loss: 8.1768e-05 - val_loss: 0.0014\n",
            "Epoch 21/60\n",
            "2009/2009 [==============================] - 1s 744us/step - loss: 8.1964e-05 - val_loss: 0.0012\n",
            "Epoch 22/60\n",
            "2009/2009 [==============================] - 2s 751us/step - loss: 8.2064e-05 - val_loss: 0.0010\n",
            "Epoch 23/60\n",
            "2009/2009 [==============================] - 1s 739us/step - loss: 8.1877e-05 - val_loss: 8.9436e-04\n",
            "Epoch 24/60\n",
            "2009/2009 [==============================] - 2s 752us/step - loss: 8.1165e-05 - val_loss: 7.6144e-04\n",
            "Epoch 25/60\n",
            "2009/2009 [==============================] - 1s 734us/step - loss: 7.9717e-05 - val_loss: 6.5618e-04\n",
            "Epoch 26/60\n",
            "2009/2009 [==============================] - 1s 740us/step - loss: 7.7453e-05 - val_loss: 5.7990e-04\n",
            "Epoch 27/60\n",
            "2009/2009 [==============================] - 2s 760us/step - loss: 7.4520e-05 - val_loss: 5.2930e-04\n",
            "Epoch 28/60\n",
            "2009/2009 [==============================] - 1s 738us/step - loss: 7.1294e-05 - val_loss: 4.9813e-04\n",
            "Epoch 29/60\n",
            "2009/2009 [==============================] - 2s 761us/step - loss: 6.8265e-05 - val_loss: 4.7974e-04\n",
            "Epoch 30/60\n",
            "2009/2009 [==============================] - 2s 766us/step - loss: 6.5877e-05 - val_loss: 4.6895e-04\n",
            "Epoch 31/60\n",
            "2009/2009 [==============================] - 2s 767us/step - loss: 6.4429e-05 - val_loss: 4.6258e-04\n",
            "Epoch 32/60\n",
            "2009/2009 [==============================] - 1s 742us/step - loss: 6.4101e-05 - val_loss: 4.5912e-04\n",
            "Epoch 33/60\n",
            "2009/2009 [==============================] - 1s 745us/step - loss: 6.5071e-05 - val_loss: 4.5824e-04\n",
            "Epoch 34/60\n",
            "2009/2009 [==============================] - 1s 741us/step - loss: 6.7666e-05 - val_loss: 4.6048e-04\n",
            "Epoch 35/60\n",
            "2009/2009 [==============================] - 1s 744us/step - loss: 7.2473e-05 - val_loss: 4.6686e-04\n",
            "Epoch 36/60\n",
            "2009/2009 [==============================] - 1s 736us/step - loss: 8.0271e-05 - val_loss: 4.7813e-04\n",
            "Epoch 37/60\n",
            "2009/2009 [==============================] - 2s 753us/step - loss: 9.1476e-05 - val_loss: 4.9307e-04\n",
            "Epoch 38/60\n",
            "2009/2009 [==============================] - 1s 740us/step - loss: 1.0475e-04 - val_loss: 5.0662e-04\n",
            "Epoch 39/60\n",
            "2009/2009 [==============================] - 2s 751us/step - loss: 1.1535e-04 - val_loss: 5.1077e-04\n",
            "Epoch 40/60\n",
            "2009/2009 [==============================] - 1s 740us/step - loss: 1.1664e-04 - val_loss: 5.0220e-04\n",
            "Epoch 41/60\n",
            "2009/2009 [==============================] - 2s 765us/step - loss: 1.0710e-04 - val_loss: 4.8857e-04\n",
            "Epoch 42/60\n",
            "2009/2009 [==============================] - 1s 741us/step - loss: 9.3752e-05 - val_loss: 4.8051e-04\n",
            "Epoch 43/60\n",
            "2009/2009 [==============================] - 1s 744us/step - loss: 8.4025e-05 - val_loss: 4.8180e-04\n",
            "Epoch 44/60\n",
            "2009/2009 [==============================] - 1s 744us/step - loss: 7.9729e-05 - val_loss: 4.9143e-04\n",
            "Epoch 45/60\n",
            "2009/2009 [==============================] - 1s 742us/step - loss: 7.9550e-05 - val_loss: 5.0814e-04\n",
            "Epoch 46/60\n",
            "2009/2009 [==============================] - 1s 735us/step - loss: 8.2205e-05 - val_loss: 5.3080e-04\n",
            "Epoch 47/60\n",
            "2009/2009 [==============================] - 1s 733us/step - loss: 8.6855e-05 - val_loss: 5.5749e-04\n",
            "Epoch 48/60\n",
            "2009/2009 [==============================] - 2s 747us/step - loss: 9.2506e-05 - val_loss: 5.8496e-04\n",
            "Epoch 49/60\n",
            "2009/2009 [==============================] - 2s 752us/step - loss: 9.7518e-05 - val_loss: 6.0923e-04\n",
            "Epoch 50/60\n",
            "2009/2009 [==============================] - 1s 740us/step - loss: 9.9797e-05 - val_loss: 6.2758e-04\n",
            "Epoch 51/60\n",
            "2009/2009 [==============================] - 1s 744us/step - loss: 9.8033e-05 - val_loss: 6.4078e-04\n",
            "Epoch 52/60\n",
            "2009/2009 [==============================] - 2s 747us/step - loss: 9.2962e-05 - val_loss: 6.5289e-04\n",
            "Epoch 53/60\n",
            "2009/2009 [==============================] - 1s 746us/step - loss: 8.6881e-05 - val_loss: 6.6805e-04\n",
            "Epoch 54/60\n",
            "2009/2009 [==============================] - 2s 747us/step - loss: 8.1823e-05 - val_loss: 6.8824e-04\n",
            "Epoch 55/60\n",
            "2009/2009 [==============================] - 1s 728us/step - loss: 7.8606e-05 - val_loss: 7.1349e-04\n",
            "Epoch 56/60\n",
            "2009/2009 [==============================] - 1s 733us/step - loss: 7.7178e-05 - val_loss: 7.4299e-04\n",
            "Epoch 57/60\n",
            "2009/2009 [==============================] - 1s 738us/step - loss: 7.7190e-05 - val_loss: 7.7547e-04\n",
            "Epoch 58/60\n",
            "2009/2009 [==============================] - 1s 742us/step - loss: 7.8256e-05 - val_loss: 8.0928e-04\n",
            "Epoch 59/60\n",
            "2009/2009 [==============================] - 1s 743us/step - loss: 7.9936e-05 - val_loss: 8.4240e-04\n",
            "Epoch 60/60\n",
            "2009/2009 [==============================] - 1s 740us/step - loss: 8.1665e-05 - val_loss: 8.7275e-04\n"
          ],
          "name": "stdout"
        }
      ]
    },
    {
      "cell_type": "code",
      "metadata": {
        "trusted": true,
        "id": "9U2VXVtQzEff",
        "colab_type": "code",
        "colab": {
          "base_uri": "https://localhost:8080/",
          "height": 282
        },
        "outputId": "628220f7-2c32-4e54-b3eb-c6fd972839bd"
      },
      "source": [
        "plt.plot(history.history['loss'])\n",
        "plt.plot(history.history['val_loss'])"
      ],
      "execution_count": 22,
      "outputs": [
        {
          "output_type": "execute_result",
          "data": {
            "text/plain": [
              "[<matplotlib.lines.Line2D at 0x7f07cbe98a58>]"
            ]
          },
          "metadata": {
            "tags": []
          },
          "execution_count": 22
        },
        {
          "output_type": "display_data",
          "data": {
            "image/png": "[encoded data removed]",
            "text/plain": [
              "<Figure size 432x288 with 1 Axes>"
            ]
          },
          "metadata": {
            "tags": [],
            "needs_background": "light"
          }
        }
      ]
    },
    {
      "cell_type": "code",
      "metadata": {
        "trusted": true,
        "id": "Cq8i3gKEzEfi",
        "colab_type": "code",
        "colab": {
          "base_uri": "https://localhost:8080/",
          "height": 265
        },
        "outputId": "e279341c-755a-4407-bb0d-ab7c07e651c4"
      },
      "source": [
        "Xt = model.predict(X_test)\n",
        "plt.plot(scl.inverse_transform(y_test.reshape(-1,1)),color='blue',label='Truth')\n",
        "plt.plot(scl.inverse_transform(Xt),color='red',label='Predicted')\n",
        "plt.legend(loc='upper left')\n",
        "plt.show()"
      ],
      "execution_count": 23,
      "outputs": [
        {
          "output_type": "display_data",
          "data": {
            "image/png": "[encoded data removed]",
            "text/plain": [
              "<Figure size 432x288 with 1 Axes>"
            ]
          },
          "metadata": {
            "tags": [],
            "needs_background": "light"
          }
        }
      ]
    },
    {
      "cell_type": "code",
      "metadata": {
        "id": "Q06ah5MF0R2C",
        "colab_type": "code",
        "colab": {}
      },
      "source": [
        "# print(scl.inverse_transform(Xt))\n",
        "# print(scl.inverse_transform(y_test.reshape(-1,1)))\n",
        "\n",
        "\n",
        "# Well, the issue here is, you are using writerows instead of writerow\n",
        "\n",
        "pred1 = pd.DataFrame(scl.inverse_transform(Xt), columns=['predictedstocks']).to_csv('data1.csv')"
      ],
      "execution_count": 0,
      "outputs": []
    },
    {
      "cell_type": "code",
      "metadata": {
        "trusted": true,
        "id": "LIheqnX2zEfk",
        "colab_type": "code",
        "colab": {
          "base_uri": "https://localhost:8080/",
          "height": 34
        },
        "outputId": "266072e7-136b-418c-bbd3-adb47d100977"
      },
      "source": [
        "act = []\n",
        "pred = []\n",
        "#for i in range(503):\n",
        "i=256\n",
        "\n",
        "Xt = model.predict(X_test[i].reshape(1,5,1))\n",
        "print('predicted:{0}, actual:{1}'.format(scl.inverse_transform(Xt),scl.inverse_transform(y_test[i].reshape(-1,1))))\n",
        "pred.append(scl.inverse_transform(Xt))\n",
        "act.append(scl.inverse_transform(y_test[i].reshape(-1,1)))\n"
      ],
      "execution_count": 29,
      "outputs": [
        {
          "output_type": "stream",
          "text": [
            "predicted:[[193.46225]], actual:[[194.15]]\n"
          ],
          "name": "stdout"
        }
      ]
    },
    {
      "cell_type": "code",
      "metadata": {
        "id": "LIjDmrwZ4Bed",
        "colab_type": "code",
        "colab": {}
      },
      "source": [
        ""
      ],
      "execution_count": 0,
      "outputs": []
    }
  ]
}